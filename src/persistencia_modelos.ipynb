{
 "cells": [
  {
   "cell_type": "code",
   "execution_count": 6,
   "metadata": {},
   "outputs": [],
   "source": [
    "import pandas as pd\n",
    "from sklearn.preprocessing import MinMaxScaler\n",
    "from sklearn.mixture import GaussianMixture\n",
    "from sklearn.cluster import MeanShift\n",
    "from sklearn.decomposition import PCA\n",
    "from sklearn.cluster import Birch\n",
    "import joblib\n"
   ]
  },
  {
   "cell_type": "code",
   "execution_count": 3,
   "metadata": {},
   "outputs": [
    {
     "data": {
      "text/html": [
       "<div>\n",
       "<style scoped>\n",
       "    .dataframe tbody tr th:only-of-type {\n",
       "        vertical-align: middle;\n",
       "    }\n",
       "\n",
       "    .dataframe tbody tr th {\n",
       "        vertical-align: top;\n",
       "    }\n",
       "\n",
       "    .dataframe thead th {\n",
       "        text-align: right;\n",
       "    }\n",
       "</style>\n",
       "<table border=\"1\" class=\"dataframe\">\n",
       "  <thead>\n",
       "    <tr style=\"text-align: right;\">\n",
       "      <th></th>\n",
       "      <th>ID</th>\n",
       "      <th>Edad</th>\n",
       "      <th>Genero</th>\n",
       "      <th>Ingresos Anuales</th>\n",
       "      <th>Gasto Mensual</th>\n",
       "      <th>Puntuación de Crédito</th>\n",
       "      <th>Región</th>\n",
       "      <th>Comportamiento en linea</th>\n",
       "      <th>Compras en el ultimo año</th>\n",
       "    </tr>\n",
       "  </thead>\n",
       "  <tbody>\n",
       "    <tr>\n",
       "      <th>0</th>\n",
       "      <td>1</td>\n",
       "      <td>21</td>\n",
       "      <td>Masculino</td>\n",
       "      <td>222011</td>\n",
       "      <td>2297</td>\n",
       "      <td>335</td>\n",
       "      <td>Sur</td>\n",
       "      <td>8</td>\n",
       "      <td>81</td>\n",
       "    </tr>\n",
       "    <tr>\n",
       "      <th>1</th>\n",
       "      <td>2</td>\n",
       "      <td>26</td>\n",
       "      <td>Masculino</td>\n",
       "      <td>239229</td>\n",
       "      <td>3420</td>\n",
       "      <td>329</td>\n",
       "      <td>Oeste</td>\n",
       "      <td>10</td>\n",
       "      <td>27</td>\n",
       "    </tr>\n",
       "    <tr>\n",
       "      <th>2</th>\n",
       "      <td>3</td>\n",
       "      <td>38</td>\n",
       "      <td>Masculino</td>\n",
       "      <td>716278</td>\n",
       "      <td>36965</td>\n",
       "      <td>711</td>\n",
       "      <td>Oeste</td>\n",
       "      <td>9</td>\n",
       "      <td>82</td>\n",
       "    </tr>\n",
       "    <tr>\n",
       "      <th>3</th>\n",
       "      <td>4</td>\n",
       "      <td>64</td>\n",
       "      <td>Femenino</td>\n",
       "      <td>697325</td>\n",
       "      <td>9846</td>\n",
       "      <td>855</td>\n",
       "      <td>Sur</td>\n",
       "      <td>2</td>\n",
       "      <td>6</td>\n",
       "    </tr>\n",
       "    <tr>\n",
       "      <th>4</th>\n",
       "      <td>5</td>\n",
       "      <td>52</td>\n",
       "      <td>Femenino</td>\n",
       "      <td>1032569</td>\n",
       "      <td>6607</td>\n",
       "      <td>989</td>\n",
       "      <td>Sur</td>\n",
       "      <td>3</td>\n",
       "      <td>2</td>\n",
       "    </tr>\n",
       "  </tbody>\n",
       "</table>\n",
       "</div>"
      ],
      "text/plain": [
       "   ID  Edad     Genero  Ingresos Anuales  Gasto Mensual  \\\n",
       "0   1    21  Masculino            222011           2297   \n",
       "1   2    26  Masculino            239229           3420   \n",
       "2   3    38  Masculino            716278          36965   \n",
       "3   4    64   Femenino            697325           9846   \n",
       "4   5    52   Femenino           1032569           6607   \n",
       "\n",
       "   Puntuación de Crédito Región  Comportamiento en linea  \\\n",
       "0                    335    Sur                        8   \n",
       "1                    329  Oeste                       10   \n",
       "2                    711  Oeste                        9   \n",
       "3                    855    Sur                        2   \n",
       "4                    989    Sur                        3   \n",
       "\n",
       "   Compras en el ultimo año  \n",
       "0                        81  \n",
       "1                        27  \n",
       "2                        82  \n",
       "3                         6  \n",
       "4                         2  "
      ]
     },
     "execution_count": 3,
     "metadata": {},
     "output_type": "execute_result"
    }
   ],
   "source": [
    "file_path = '../data/base_prueba_tecnica.xlsx'\n",
    "df = pd.read_excel(file_path)\n",
    "df.head()"
   ]
  },
  {
   "cell_type": "code",
   "execution_count": 4,
   "metadata": {},
   "outputs": [],
   "source": [
    "numeric_columns = ['Edad', 'Ingresos Anuales', 'Gasto Mensual', 'Puntuación de Crédito', 'Comportamiento en linea', 'Compras en el ultimo año']\n",
    "\n",
    "\n",
    "scaler = MinMaxScaler()\n",
    "df_scaled = df.copy()\n",
    "df_scaled[numeric_columns] = scaler.fit_transform(df[numeric_columns])\n",
    "\n",
    "\n",
    "pca = PCA(n_components=3)\n",
    "X_reduced = pca.fit_transform(df_scaled[numeric_columns])\n",
    "\n",
    "x = X_reduced[:, 0]\n",
    "y = X_reduced[:, 1]\n",
    "z = X_reduced[:, 2]"
   ]
  },
  {
   "cell_type": "code",
   "execution_count": 5,
   "metadata": {},
   "outputs": [
    {
     "data": {
      "text/plain": [
       "['../back/birch_model.pkl']"
      ]
     },
     "execution_count": 5,
     "metadata": {},
     "output_type": "execute_result"
    }
   ],
   "source": [
    "# Entrenar el modelo BIRCH\n",
    "birch_model = Birch(n_clusters=3) \n",
    "birch_model.fit(X_reduced)\n",
    "\n",
    "# Guardar el modelo BIRCH\n",
    "joblib.dump(scaler, '../back/scaler.pkl')\n",
    "joblib.dump(pca, '../back/pca.pkl')\n",
    "joblib.dump(birch_model, '../back/birch_model.pkl')"
   ]
  },
  {
   "cell_type": "code",
   "execution_count": 7,
   "metadata": {},
   "outputs": [],
   "source": [
    "models = [\n",
    "    ('Gaussian Mixture', GaussianMixture(n_components=3)), \n",
    "    ('Mean Shift', MeanShift(bandwidth=None)),\n",
    "]\n",
    "\n",
    "\n",
    "for name, model in models:\n",
    "    model.fit(X_reduced)\n",
    "    # Guardar el modelo \n",
    "    joblib.dump(model, f'../back/{name.replace(\" \", \"_\").lower()}_model.pkl')\n"
   ]
  }
 ],
 "metadata": {
  "kernelspec": {
   "display_name": "Python 3",
   "language": "python",
   "name": "python3"
  },
  "language_info": {
   "codemirror_mode": {
    "name": "ipython",
    "version": 3
   },
   "file_extension": ".py",
   "mimetype": "text/x-python",
   "name": "python",
   "nbconvert_exporter": "python",
   "pygments_lexer": "ipython3",
   "version": "3.11.6"
  }
 },
 "nbformat": 4,
 "nbformat_minor": 2
}
